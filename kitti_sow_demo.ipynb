{
 "cells": [
  {
   "cell_type": "code",
   "execution_count": 8,
   "metadata": {},
   "outputs": [],
   "source": [
    "import numpy as np\n",
    "from omegaconf import OmegaConf, DictConfig\n",
    "from kitti360 import HIL_rendering, custom_run_window_config, DEFAULT_ARGS\n",
    "import moderngl_window as mglw\n",
    "BASE_KITTI_CONFIG_PATH = 'configs/kitti360.yaml'"
   ]
  },
  {
   "cell_type": "code",
   "execution_count": 13,
   "metadata": {},
   "outputs": [],
   "source": [
    "def gen_random_actor_cfg(n_actors: int):\n",
    "    cfg = {}\n",
    "    for i in range(n_actors):\n",
    "        id = 'actor_' + repr(i)\n",
    "        anim_types = [ 'man_running', 'woman_walking' ] # folder name of the asset from ./assets/human_animations\n",
    "        animation_type =  str(np.random.choice(anim_types).item())\n",
    "        x_val = np.random.uniform(-10.0, 5.0) # ranges based on kitti sidewalk limits\n",
    "        y_val = 0.0 # how high above ground\n",
    "        z_val = np.random.uniform(4.0, 12.0) # how far away from ego vehicle\n",
    "        pos = [x_val, y_val, z_val]\n",
    "        if x_val < -2.5: # actor to the left of the car --> make angle so that actor approximately faces right on average\n",
    "            rot_angle = np.random.uniform(30, 150)\n",
    "        else:\n",
    "            rot_angle = np.random.uniform(-150, -45)\n",
    "        rot = [0.0, rot_angle, 0.0]\n",
    "        scale = [2.5, 2.5, 2.5]\n",
    "        cfg[id] = {\n",
    "                'animation_type': animation_type,\n",
    "                'object2scenario': {\n",
    "                    'pos' : pos,\n",
    "                    'rot' : rot,\n",
    "                    'scale' : scale\n",
    "                }\n",
    "            }\n",
    "    return cfg\n",
    "def auto_gen_kitti_config() -> DictConfig:\n",
    "    base_cfg = OmegaConf.load(BASE_KITTI_CONFIG_PATH)\n",
    "    actor_gen = gen_random_actor_cfg(np.random.randint(1, 3))\n",
    "    base_cfg.scenario_configs.jaywalking.actor_configs = actor_gen\n",
    "    base_cfg.scenario_configs.jaywalking.trigger_distance = 2.0 # just force immediate animation with low trigger distance\n",
    "    print(base_cfg.scenario_configs.jaywalking.actor_configs)\n",
    "    base_cfg.device = 'cpu'\n",
    "    base_cfg.display = 'headless'\n",
    "    return base_cfg"
   ]
  },
  {
   "cell_type": "code",
   "execution_count": 14,
   "metadata": {},
   "outputs": [
    {
     "name": "stderr",
     "output_type": "stream",
     "text": [
      "2023-08-23 08:19:51,387 - moderngl_window - INFO - Attempting to load window class: moderngl_window.context.headless.Window\n",
      "2023-08-23 08:19:51,431 - moderngl_window.context.base.window - INFO - Context Version:\n",
      "2023-08-23 08:19:51,432 - moderngl_window.context.base.window - INFO - ModernGL: 5.7.2\n",
      "2023-08-23 08:19:51,433 - moderngl_window.context.base.window - INFO - vendor: NVIDIA Corporation\n",
      "2023-08-23 08:19:51,433 - moderngl_window.context.base.window - INFO - renderer: NVIDIA GeForce RTX 4050 Laptop GPU/PCIe/SSE2\n",
      "2023-08-23 08:19:51,434 - moderngl_window.context.base.window - INFO - version: 3.3.0 NVIDIA 532.09\n",
      "2023-08-23 08:19:51,434 - moderngl_window.context.base.window - INFO - python: 3.9.12 (main, Apr  4 2022, 05:22:27) [MSC v.1916 64 bit (AMD64)]\n",
      "2023-08-23 08:19:51,435 - moderngl_window.context.base.window - INFO - platform: win32\n",
      "2023-08-23 08:19:51,435 - moderngl_window.context.base.window - INFO - code: 330\n"
     ]
    },
    {
     "name": "stdout",
     "output_type": "stream",
     "text": [
      "{'actor_0': {'animation_type': 'man_running', 'object2scenario': {'pos': [2.7685745266706068, 0.0, 6.09861906736138], 'rot': [0.0, -145.53307290632404, 0.0], 'scale': [2.5, 2.5, 2.5]}}}\n",
      "frame 2, FPS = 8.10839798252007, time: 0.2466578483581543\n",
      "frame 3, FPS = 6.003718772261222, time: 0.49969029426574707\n",
      "frame 4, FPS = 5.282347388661093, time: 0.7572391033172607\n",
      "frame 5, FPS = 4.917547360497863, time: 1.0167670249938965\n",
      "frame 6, FPS = 4.710989640467695, time: 1.2736177444458008\n",
      "frame 7, FPS = 4.579889474770394, time: 1.52842116355896\n",
      "frame 8, FPS = 4.487936802146114, time: 1.7825562953948975\n",
      "frame 9, FPS = 4.415715325969662, time: 2.038174867630005\n",
      "frame 10, FPS = 4.364574791776796, time: 2.2911739349365234\n",
      "frame 11, FPS = 4.330409559812087, time: 2.540175437927246\n",
      "frame 12, FPS = 4.296185533826467, time: 2.793175458908081\n",
      "frame 13, FPS = 4.269417838533867, time: 3.0449116230010986\n",
      "frame 14, FPS = 4.250330951821709, time: 3.293861150741577\n",
      "frame 15, FPS = 4.230926903274746, time: 3.5453224182128906\n",
      "frame 16, FPS = 4.207059014107208, time: 3.8031318187713623\n",
      "frame 17, FPS = 4.183878267578168, time: 4.063215732574463\n",
      "frame 18, FPS = 4.168413290318285, time: 4.318189859390259\n",
      "frame 19, FPS = 4.153345672353516, time: 4.574625253677368\n",
      "frame 20, FPS = 4.148731635045102, time: 4.82075047492981\n"
     ]
    },
    {
     "name": "stderr",
     "output_type": "stream",
     "text": [
      "2023-08-23 08:20:00,682 - moderngl_window - INFO - Duration: 5.35s @ 4.11 FPS\n"
     ]
    },
    {
     "name": "stdout",
     "output_type": "stream",
     "text": [
      "frame 21, FPS = 4.133183660931759, time: 5.08082914352417\n",
      "Cleanup\n"
     ]
    }
   ],
   "source": [
    "custom_config = auto_gen_kitti_config()\n",
    "config_cls = HIL_rendering\n",
    "# parser = mglw.create_parser()\n",
    "# config_cls.add_arguments(parser)\n",
    "# values = mglw.parse_args(args=None, parser=parser)\n",
    "config_cls.argv = DEFAULT_ARGS\n",
    "values = DEFAULT_ARGS\n",
    "custom_run_window_config(custom_config, config_cls, values)"
   ]
  },
  {
   "cell_type": "code",
   "execution_count": null,
   "metadata": {},
   "outputs": [],
   "source": []
  }
 ],
 "metadata": {
  "kernelspec": {
   "display_name": "sow",
   "language": "python",
   "name": "python3"
  },
  "language_info": {
   "codemirror_mode": {
    "name": "ipython",
    "version": 3
   },
   "file_extension": ".py",
   "mimetype": "text/x-python",
   "name": "python",
   "nbconvert_exporter": "python",
   "pygments_lexer": "ipython3",
   "version": "3.9.12"
  },
  "orig_nbformat": 4
 },
 "nbformat": 4,
 "nbformat_minor": 2
}
