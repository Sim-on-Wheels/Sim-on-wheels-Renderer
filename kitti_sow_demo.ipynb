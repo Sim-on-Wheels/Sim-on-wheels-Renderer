{
 "cells": [
  {
   "cell_type": "code",
   "execution_count": null,
   "metadata": {},
   "outputs": [],
   "source": [
    "from google.colab import drive\n",
    "drive.mount('/content/drive')\n",
    "%cd /content/drive/MyDrive\n",
    "# Downloading the rep; this branch already contains the 20 frame of sample kitti data and \n",
    "!git clone -b kitti-colab-demo https://github.com/Sim-on-Wheels/Sim-on-wheels-Renderer.git\n",
    "%cd /content/drive/MyDrive/Sim-on-wheels-Renderer/"
   ]
  },
  {
   "cell_type": "code",
   "execution_count": null,
   "metadata": {},
   "outputs": [],
   "source": [
    "import os\n",
    "os.listdir()"
   ]
  },
  {
   "cell_type": "code",
   "execution_count": null,
   "metadata": {},
   "outputs": [],
   "source": [
    "!pip install -r requirements.txt"
   ]
  },
  {
   "cell_type": "code",
   "execution_count": 1,
   "metadata": {},
   "outputs": [
    {
     "name": "stdout",
     "output_type": "stream",
     "text": [
      "pygame 2.1.2 (SDL 2.0.18, Python 3.9.12)\n",
      "Hello from the pygame community. https://www.pygame.org/contribute.html\n"
     ]
    }
   ],
   "source": [
    "import numpy as np\n",
    "from omegaconf import OmegaConf, DictConfig\n",
    "from kitti360 import HIL_rendering, custom_run_window_config, DEFAULT_ARGS\n",
    "import moderngl_window as mglw\n",
    "BASE_KITTI_CONFIG_PATH = 'configs/kitti360.yaml'"
   ]
  },
  {
   "cell_type": "code",
   "execution_count": 2,
   "metadata": {},
   "outputs": [],
   "source": [
    "def gen_random_actor_cfg(n_actors: int):\n",
    "    cfg = {}\n",
    "    for i in range(n_actors):\n",
    "        id = 'actor_' + repr(i)\n",
    "        anim_types = [ 'man_running', 'woman_walking' ] # folder name of the asset from ./assets/human_animations\n",
    "        animation_type =  str(np.random.choice(anim_types).item())\n",
    "        x_val = np.random.uniform(-10.0, 5.0) # ranges based on kitti sidewalk limits\n",
    "        y_val = 0.0 # how high above ground\n",
    "        z_val = np.random.uniform(4.0, 12.0) # how far away from ego vehicle\n",
    "        pos = [x_val, y_val, z_val]\n",
    "        if x_val < -2.5: # actor to the left of the car --> make angle so that actor approximately faces right on average\n",
    "            rot_angle = np.random.uniform(30, 150)\n",
    "        else:\n",
    "            rot_angle = np.random.uniform(-150, -45)\n",
    "        rot = [0.0, rot_angle, 0.0]\n",
    "        scale = [2.5, 2.5, 2.5]\n",
    "        cfg[id] = {\n",
    "                'animation_type': animation_type,\n",
    "                'object2scenario': {\n",
    "                    'pos' : pos,\n",
    "                    'rot' : rot,\n",
    "                    'scale' : scale\n",
    "                }\n",
    "            }\n",
    "    return cfg\n",
    "def auto_gen_kitti_config() -> DictConfig:\n",
    "    base_cfg = OmegaConf.load(BASE_KITTI_CONFIG_PATH)\n",
    "    actor_gen = gen_random_actor_cfg(np.random.randint(1, 3))\n",
    "    base_cfg.scenario_configs.jaywalking.actor_configs = actor_gen\n",
    "    base_cfg.scenario_configs.jaywalking.trigger_distance = 2.0 # just force immediate animation with low trigger distance\n",
    "    print(base_cfg.scenario_configs.jaywalking.actor_configs)\n",
    "    base_cfg.device = 'cpu'\n",
    "    base_cfg.display = 'headless'\n",
    "    return base_cfg"
   ]
  },
  {
   "cell_type": "code",
   "execution_count": 3,
   "metadata": {},
   "outputs": [
    {
     "name": "stdout",
     "output_type": "stream",
     "text": [
      "{'actor_0': {'animation_type': 'man_running', 'object2scenario': {'pos': [4.848933100407052, 0.0, 10.460488606090006], 'rot': [0.0, -124.06663056109053, 0.0], 'scale': [2.5, 2.5, 2.5]}}}\n"
     ]
    },
    {
     "ename": "ImportError",
     "evalue": "cannot import name 'egl' from 'glcontext' (c:\\Users\\Bharg\\miniconda3\\envs\\sow\\lib\\site-packages\\glcontext\\__init__.py)",
     "output_type": "error",
     "traceback": [
      "\u001b[1;31m---------------------------------------------------------------------------\u001b[0m",
      "\u001b[1;31mImportError\u001b[0m                               Traceback (most recent call last)",
      "Cell \u001b[1;32mIn[3], line 8\u001b[0m\n\u001b[0;32m      6\u001b[0m config_cls\u001b[39m.\u001b[39margv \u001b[39m=\u001b[39m DEFAULT_ARGS\n\u001b[0;32m      7\u001b[0m values \u001b[39m=\u001b[39m DEFAULT_ARGS\n\u001b[1;32m----> 8\u001b[0m custom_run_window_config(custom_config, config_cls, values)\n",
      "File \u001b[1;32mc:\\Projects\\Sim-on-wheels-Renderer\\kitti360.py:317\u001b[0m, in \u001b[0;36mcustom_run_window_config\u001b[1;34m(custom_config, config_cls, values, timer, args)\u001b[0m\n\u001b[0;32m    304\u001b[0m \u001b[39m\u001b[39m\u001b[39m\"\"\"\u001b[39;00m\n\u001b[0;32m    305\u001b[0m \u001b[39mInitially based on from https://moderngl-window.readthedocs.io/en/latest/_modules/moderngl_window.html#run_window_config\u001b[39;00m\n\u001b[0;32m    306\u001b[0m \u001b[39mRun an WindowConfig entering a blocking main loop\u001b[39;00m\n\u001b[1;32m   (...)\u001b[0m\n\u001b[0;32m    314\u001b[0m \u001b[39m    args: Override sys.args\u001b[39;00m\n\u001b[0;32m    315\u001b[0m \u001b[39m\"\"\"\u001b[39;00m\n\u001b[0;32m    316\u001b[0m using_ros \u001b[39m=\u001b[39m \u001b[39mFalse\u001b[39;00m\n\u001b[1;32m--> 317\u001b[0m window, config_obj, timer \u001b[39m=\u001b[39m setup_window_config(config_cls, values, using_ros, custom_config)\n\u001b[0;32m    319\u001b[0m timer\u001b[39m.\u001b[39mstart()\n\u001b[0;32m    321\u001b[0m \u001b[39mwhile\u001b[39;00m \u001b[39mnot\u001b[39;00m window\u001b[39m.\u001b[39mis_closing \u001b[39mand\u001b[39;00m config_obj\u001b[39m.\u001b[39mi \u001b[39m<\u001b[39m \u001b[39mlen\u001b[39m(config_obj\u001b[39m.\u001b[39mdataloader):\n",
      "File \u001b[1;32mc:\\Projects\\Sim-on-wheels-Renderer\\kitti360.py:260\u001b[0m, in \u001b[0;36msetup_window_config\u001b[1;34m(config_cls, values, using_ros, custom_config)\u001b[0m\n\u001b[0;32m    257\u001b[0m \u001b[39mif\u001b[39;00m show_cursor \u001b[39mis\u001b[39;00m \u001b[39mNone\u001b[39;00m:\n\u001b[0;32m    258\u001b[0m     show_cursor \u001b[39m=\u001b[39m config_cls\u001b[39m.\u001b[39mcursor\n\u001b[1;32m--> 260\u001b[0m window \u001b[39m=\u001b[39m window_cls(\n\u001b[0;32m    261\u001b[0m     title\u001b[39m=\u001b[39;49mconfig_cls\u001b[39m.\u001b[39;49mtitle,\n\u001b[0;32m    262\u001b[0m     size\u001b[39m=\u001b[39;49msize,\n\u001b[0;32m    263\u001b[0m     fullscreen\u001b[39m=\u001b[39;49mconfig_cls\u001b[39m.\u001b[39;49mfullscreen \u001b[39mor\u001b[39;49;00m values\u001b[39m.\u001b[39;49mfullscreen,\n\u001b[0;32m    264\u001b[0m     resizable\u001b[39m=\u001b[39;49mvalues\u001b[39m.\u001b[39;49mresizable\n\u001b[0;32m    265\u001b[0m     \u001b[39mif\u001b[39;49;00m values\u001b[39m.\u001b[39;49mresizable \u001b[39mis\u001b[39;49;00m \u001b[39mnot\u001b[39;49;00m \u001b[39mNone\u001b[39;49;00m\n\u001b[0;32m    266\u001b[0m     \u001b[39melse\u001b[39;49;00m config_cls\u001b[39m.\u001b[39;49mresizable,\n\u001b[0;32m    267\u001b[0m     gl_version\u001b[39m=\u001b[39;49mconfig_cls\u001b[39m.\u001b[39;49mgl_version,\n\u001b[0;32m    268\u001b[0m     aspect_ratio\u001b[39m=\u001b[39;49mconfig_cls\u001b[39m.\u001b[39;49maspect_ratio,\n\u001b[0;32m    269\u001b[0m     vsync\u001b[39m=\u001b[39;49mvalues\u001b[39m.\u001b[39;49mvsync \u001b[39mif\u001b[39;49;00m values\u001b[39m.\u001b[39;49mvsync \u001b[39mis\u001b[39;49;00m \u001b[39mnot\u001b[39;49;00m \u001b[39mNone\u001b[39;49;00m \u001b[39melse\u001b[39;49;00m config_cls\u001b[39m.\u001b[39;49mvsync,\n\u001b[0;32m    270\u001b[0m     samples\u001b[39m=\u001b[39;49mvalues\u001b[39m.\u001b[39;49msamples \u001b[39mif\u001b[39;49;00m values\u001b[39m.\u001b[39;49msamples \u001b[39mis\u001b[39;49;00m \u001b[39mnot\u001b[39;49;00m \u001b[39mNone\u001b[39;49;00m \u001b[39melse\u001b[39;49;00m config_cls\u001b[39m.\u001b[39;49msamples,\n\u001b[0;32m    271\u001b[0m     cursor\u001b[39m=\u001b[39;49mshow_cursor \u001b[39mif\u001b[39;49;00m show_cursor \u001b[39mis\u001b[39;49;00m \u001b[39mnot\u001b[39;49;00m \u001b[39mNone\u001b[39;49;00m \u001b[39melse\u001b[39;49;00m \u001b[39mTrue\u001b[39;49;00m,\n\u001b[0;32m    272\u001b[0m     backend\u001b[39m=\u001b[39;49m\u001b[39m'\u001b[39;49m\u001b[39megl\u001b[39;49m\u001b[39m'\u001b[39;49m\n\u001b[0;32m    273\u001b[0m )\n\u001b[0;32m    274\u001b[0m window\u001b[39m.\u001b[39mprint_context_info()\n\u001b[0;32m    275\u001b[0m ctx \u001b[39m=\u001b[39m mgl\u001b[39m.\u001b[39mcreate_context(standalone\u001b[39m=\u001b[39m\u001b[39mTrue\u001b[39;00m, backend\u001b[39m=\u001b[39m\u001b[39m'\u001b[39m\u001b[39megl\u001b[39m\u001b[39m'\u001b[39m)\n",
      "File \u001b[1;32mc:\\Users\\Bharg\\miniconda3\\envs\\sow\\lib\\site-packages\\moderngl_window\\context\\headless\\window.py:23\u001b[0m, in \u001b[0;36mWindow.__init__\u001b[1;34m(self, **kwargs)\u001b[0m\n\u001b[0;32m     21\u001b[0m \u001b[39mself\u001b[39m\u001b[39m.\u001b[39m_resizable \u001b[39m=\u001b[39m \u001b[39mFalse\u001b[39;00m  \u001b[39m# headless window is not resizable\u001b[39;00m\n\u001b[0;32m     22\u001b[0m \u001b[39mself\u001b[39m\u001b[39m.\u001b[39m_cursor \u001b[39m=\u001b[39m \u001b[39mFalse\u001b[39;00m  \u001b[39m# Headless don't have a cursor\u001b[39;00m\n\u001b[1;32m---> 23\u001b[0m \u001b[39mself\u001b[39;49m\u001b[39m.\u001b[39;49minit_mgl_context()\n\u001b[0;32m     24\u001b[0m \u001b[39mself\u001b[39m\u001b[39m.\u001b[39mset_default_viewport()\n",
      "File \u001b[1;32mc:\\Projects\\Sim-on-wheels-Renderer\\kitti360.py:238\u001b[0m, in \u001b[0;36mEglHeadlessWindow.init_mgl_context\u001b[1;34m(self)\u001b[0m\n\u001b[0;32m    236\u001b[0m \u001b[39mdef\u001b[39;00m \u001b[39minit_mgl_context\u001b[39m(\u001b[39mself\u001b[39m) \u001b[39m-\u001b[39m\u001b[39m>\u001b[39m \u001b[39mNone\u001b[39;00m:\n\u001b[0;32m    237\u001b[0m \u001b[39m    \u001b[39m\u001b[39m\"\"\"Create an standalone context and framebuffer\"\"\"\u001b[39;00m\n\u001b[1;32m--> 238\u001b[0m     \u001b[39mself\u001b[39m\u001b[39m.\u001b[39m_ctx \u001b[39m=\u001b[39m mgl\u001b[39m.\u001b[39;49mcreate_standalone_context(\n\u001b[0;32m    239\u001b[0m         require\u001b[39m=\u001b[39;49m\u001b[39mself\u001b[39;49m\u001b[39m.\u001b[39;49mgl_version_code,\n\u001b[0;32m    240\u001b[0m         backend\u001b[39m=\u001b[39;49m\u001b[39m\"\u001b[39;49m\u001b[39megl\u001b[39;49m\u001b[39m\"\u001b[39;49m,\n\u001b[0;32m    241\u001b[0m     )\n\u001b[0;32m    242\u001b[0m     \u001b[39mself\u001b[39m\u001b[39m.\u001b[39m_fbo \u001b[39m=\u001b[39m \u001b[39mself\u001b[39m\u001b[39m.\u001b[39mctx\u001b[39m.\u001b[39mframebuffer(\n\u001b[0;32m    243\u001b[0m         color_attachments\u001b[39m=\u001b[39m\u001b[39mself\u001b[39m\u001b[39m.\u001b[39mctx\u001b[39m.\u001b[39mtexture(\u001b[39mself\u001b[39m\u001b[39m.\u001b[39msize, \u001b[39m4\u001b[39m, samples\u001b[39m=\u001b[39m\u001b[39mself\u001b[39m\u001b[39m.\u001b[39m_samples),\n\u001b[0;32m    244\u001b[0m         depth_attachment\u001b[39m=\u001b[39m\u001b[39mself\u001b[39m\u001b[39m.\u001b[39mctx\u001b[39m.\u001b[39mdepth_texture(\u001b[39mself\u001b[39m\u001b[39m.\u001b[39msize, samples\u001b[39m=\u001b[39m\u001b[39mself\u001b[39m\u001b[39m.\u001b[39m_samples),\n\u001b[0;32m    245\u001b[0m     )\n\u001b[0;32m    246\u001b[0m     \u001b[39mself\u001b[39m\u001b[39m.\u001b[39muse()\n",
      "File \u001b[1;32mc:\\Users\\Bharg\\miniconda3\\envs\\sow\\lib\\site-packages\\moderngl\\context.py:2020\u001b[0m, in \u001b[0;36mcreate_standalone_context\u001b[1;34m(require, share, **settings)\u001b[0m\n\u001b[0;32m   2017\u001b[0m mode \u001b[39m=\u001b[39m \u001b[39m'\u001b[39m\u001b[39mshare\u001b[39m\u001b[39m'\u001b[39m \u001b[39mif\u001b[39;00m share \u001b[39mis\u001b[39;00m \u001b[39mTrue\u001b[39;00m \u001b[39melse\u001b[39;00m \u001b[39m'\u001b[39m\u001b[39mstandalone\u001b[39m\u001b[39m'\u001b[39m\n\u001b[0;32m   2019\u001b[0m ctx \u001b[39m=\u001b[39m Context\u001b[39m.\u001b[39m\u001b[39m__new__\u001b[39m(Context)\n\u001b[1;32m-> 2020\u001b[0m ctx\u001b[39m.\u001b[39mmglo, ctx\u001b[39m.\u001b[39mversion_code \u001b[39m=\u001b[39m mgl\u001b[39m.\u001b[39mcreate_context(glversion\u001b[39m=\u001b[39mrequire, mode\u001b[39m=\u001b[39mmode, \u001b[39m*\u001b[39m\u001b[39m*\u001b[39msettings)\n\u001b[0;32m   2021\u001b[0m ctx\u001b[39m.\u001b[39m_screen \u001b[39m=\u001b[39m \u001b[39mNone\u001b[39;00m\n\u001b[0;32m   2022\u001b[0m ctx\u001b[39m.\u001b[39mfbo \u001b[39m=\u001b[39m \u001b[39mNone\u001b[39;00m\n",
      "File \u001b[1;32mc:\\Users\\Bharg\\miniconda3\\envs\\sow\\lib\\site-packages\\glcontext\\__init__.py:49\u001b[0m, in \u001b[0;36mget_backend_by_name\u001b[1;34m(name)\u001b[0m\n\u001b[0;32m     47\u001b[0m \u001b[39m\u001b[39m\u001b[39m\"\"\"Request a specific backend by name\"\"\"\u001b[39;00m\n\u001b[0;32m     48\u001b[0m \u001b[39mif\u001b[39;00m name \u001b[39m==\u001b[39m \u001b[39m'\u001b[39m\u001b[39megl\u001b[39m\u001b[39m'\u001b[39m:\n\u001b[1;32m---> 49\u001b[0m     \u001b[39mreturn\u001b[39;00m _egl()\n\u001b[0;32m     51\u001b[0m \u001b[39mraise\u001b[39;00m \u001b[39mValueError\u001b[39;00m(\u001b[39m\"\u001b[39m\u001b[39mCannot find supported backend: \u001b[39m\u001b[39m'\u001b[39m\u001b[39m{}\u001b[39;00m\u001b[39m'\u001b[39m\u001b[39m\"\u001b[39m\u001b[39m.\u001b[39mformat(name))\n",
      "File \u001b[1;32mc:\\Users\\Bharg\\miniconda3\\envs\\sow\\lib\\site-packages\\glcontext\\__init__.py:106\u001b[0m, in \u001b[0;36m_egl\u001b[1;34m()\u001b[0m\n\u001b[0;32m    105\u001b[0m \u001b[39mdef\u001b[39;00m \u001b[39m_egl\u001b[39m():\n\u001b[1;32m--> 106\u001b[0m     \u001b[39mfrom\u001b[39;00m \u001b[39mglcontext\u001b[39;00m \u001b[39mimport\u001b[39;00m egl\n\u001b[0;32m    107\u001b[0m     \u001b[39mfrom\u001b[39;00m \u001b[39mctypes\u001b[39;00m\u001b[39m.\u001b[39;00m\u001b[39mutil\u001b[39;00m \u001b[39mimport\u001b[39;00m find_library\n\u001b[0;32m    109\u001b[0m     \u001b[39mdef\u001b[39;00m \u001b[39mcreate\u001b[39m(\u001b[39m*\u001b[39margs, \u001b[39m*\u001b[39m\u001b[39m*\u001b[39mkwargs):\n",
      "\u001b[1;31mImportError\u001b[0m: cannot import name 'egl' from 'glcontext' (c:\\Users\\Bharg\\miniconda3\\envs\\sow\\lib\\site-packages\\glcontext\\__init__.py)"
     ]
    }
   ],
   "source": [
    "custom_config = auto_gen_kitti_config()\n",
    "config_cls = HIL_rendering\n",
    "config_cls.argv = DEFAULT_ARGS\n",
    "values = DEFAULT_ARGS\n",
    "custom_run_window_config(custom_config, config_cls, values)"
   ]
  },
  {
   "cell_type": "code",
   "execution_count": null,
   "metadata": {},
   "outputs": [],
   "source": []
  }
 ],
 "metadata": {
  "kernelspec": {
   "display_name": "sow",
   "language": "python",
   "name": "python3"
  },
  "language_info": {
   "codemirror_mode": {
    "name": "ipython",
    "version": 3
   },
   "file_extension": ".py",
   "mimetype": "text/x-python",
   "name": "python",
   "nbconvert_exporter": "python",
   "pygments_lexer": "ipython3",
   "version": "3.9.12"
  },
  "orig_nbformat": 4
 },
 "nbformat": 4,
 "nbformat_minor": 2
}
